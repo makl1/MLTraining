{
  "nbformat": 4,
  "nbformat_minor": 0,
  "metadata": {
    "colab": {
      "name": "Copy of Untitled1.ipynb",
      "provenance": [],
      "collapsed_sections": [],
      "authorship_tag": "ABX9TyOSDqWtZHQhyGYRaqVpEtHV",
      "include_colab_link": true
    },
    "kernelspec": {
      "name": "python3",
      "display_name": "Python 3"
    }
  },
  "cells": [
    {
      "cell_type": "markdown",
      "metadata": {
        "id": "view-in-github",
        "colab_type": "text"
      },
      "source": [
        "<a href=\"https://colab.research.google.com/github/makl1/MLTraining/blob/master/StockPricePred.ipynb\" target=\"_parent\"><img src=\"https://colab.research.google.com/assets/colab-badge.svg\" alt=\"Open In Colab\"/></a>"
      ]
    },
    {
      "cell_type": "code",
      "metadata": {
        "id": "LqSn-u4riQIS"
      },
      "source": [
        "import math\r\n",
        "import pandas_datareader as web\r\n",
        "import numpy as np\r\n",
        "import pandas as pd\r\n",
        "from sklearn.preprocessing import MinMaxScaler\r\n",
        "from keras.models import Sequential\r\n",
        "from keras.layers import Dense, LSTM\r\n",
        "import matplotlib.pyplot as plt\r\n",
        "plt.style.use('fivethirtyeight')"
      ],
      "execution_count": 2,
      "outputs": []
    },
    {
      "cell_type": "code",
      "metadata": {
        "colab": {
          "base_uri": "https://localhost:8080/",
          "height": 450
        },
        "id": "EYUqf8whjO8v",
        "outputId": "b3b58760-70b1-4c20-c303-35aff948e63d"
      },
      "source": [
        "df = web.DataReader('AAPL',data_source='yahoo',start='2012-01-01',end='2020-12-17')\r\n",
        "df"
      ],
      "execution_count": 4,
      "outputs": [
        {
          "output_type": "execute_result",
          "data": {
            "text/html": [
              "<div>\n",
              "<style scoped>\n",
              "    .dataframe tbody tr th:only-of-type {\n",
              "        vertical-align: middle;\n",
              "    }\n",
              "\n",
              "    .dataframe tbody tr th {\n",
              "        vertical-align: top;\n",
              "    }\n",
              "\n",
              "    .dataframe thead th {\n",
              "        text-align: right;\n",
              "    }\n",
              "</style>\n",
              "<table border=\"1\" class=\"dataframe\">\n",
              "  <thead>\n",
              "    <tr style=\"text-align: right;\">\n",
              "      <th></th>\n",
              "      <th>High</th>\n",
              "      <th>Low</th>\n",
              "      <th>Open</th>\n",
              "      <th>Close</th>\n",
              "      <th>Volume</th>\n",
              "      <th>Adj Close</th>\n",
              "    </tr>\n",
              "    <tr>\n",
              "      <th>Date</th>\n",
              "      <th></th>\n",
              "      <th></th>\n",
              "      <th></th>\n",
              "      <th></th>\n",
              "      <th></th>\n",
              "      <th></th>\n",
              "    </tr>\n",
              "  </thead>\n",
              "  <tbody>\n",
              "    <tr>\n",
              "      <th>2012-01-03</th>\n",
              "      <td>14.732142</td>\n",
              "      <td>14.607142</td>\n",
              "      <td>14.621428</td>\n",
              "      <td>14.686786</td>\n",
              "      <td>302220800.0</td>\n",
              "      <td>12.669562</td>\n",
              "    </tr>\n",
              "    <tr>\n",
              "      <th>2012-01-04</th>\n",
              "      <td>14.810000</td>\n",
              "      <td>14.617143</td>\n",
              "      <td>14.642858</td>\n",
              "      <td>14.765715</td>\n",
              "      <td>260022000.0</td>\n",
              "      <td>12.737655</td>\n",
              "    </tr>\n",
              "    <tr>\n",
              "      <th>2012-01-05</th>\n",
              "      <td>14.948215</td>\n",
              "      <td>14.738214</td>\n",
              "      <td>14.819643</td>\n",
              "      <td>14.929643</td>\n",
              "      <td>271269600.0</td>\n",
              "      <td>12.879071</td>\n",
              "    </tr>\n",
              "    <tr>\n",
              "      <th>2012-01-06</th>\n",
              "      <td>15.098214</td>\n",
              "      <td>14.972143</td>\n",
              "      <td>14.991786</td>\n",
              "      <td>15.085714</td>\n",
              "      <td>318292800.0</td>\n",
              "      <td>13.013705</td>\n",
              "    </tr>\n",
              "    <tr>\n",
              "      <th>2012-01-09</th>\n",
              "      <td>15.276786</td>\n",
              "      <td>15.048214</td>\n",
              "      <td>15.196428</td>\n",
              "      <td>15.061786</td>\n",
              "      <td>394024400.0</td>\n",
              "      <td>12.993064</td>\n",
              "    </tr>\n",
              "    <tr>\n",
              "      <th>...</th>\n",
              "      <td>...</td>\n",
              "      <td>...</td>\n",
              "      <td>...</td>\n",
              "      <td>...</td>\n",
              "      <td>...</td>\n",
              "      <td>...</td>\n",
              "    </tr>\n",
              "    <tr>\n",
              "      <th>2020-12-11</th>\n",
              "      <td>122.760002</td>\n",
              "      <td>120.550003</td>\n",
              "      <td>122.430000</td>\n",
              "      <td>122.410004</td>\n",
              "      <td>86939800.0</td>\n",
              "      <td>122.410004</td>\n",
              "    </tr>\n",
              "    <tr>\n",
              "      <th>2020-12-14</th>\n",
              "      <td>123.349998</td>\n",
              "      <td>121.540001</td>\n",
              "      <td>122.599998</td>\n",
              "      <td>121.779999</td>\n",
              "      <td>79184500.0</td>\n",
              "      <td>121.779999</td>\n",
              "    </tr>\n",
              "    <tr>\n",
              "      <th>2020-12-15</th>\n",
              "      <td>127.900002</td>\n",
              "      <td>124.129997</td>\n",
              "      <td>124.339996</td>\n",
              "      <td>127.879997</td>\n",
              "      <td>157572300.0</td>\n",
              "      <td>127.879997</td>\n",
              "    </tr>\n",
              "    <tr>\n",
              "      <th>2020-12-16</th>\n",
              "      <td>128.369995</td>\n",
              "      <td>126.559998</td>\n",
              "      <td>127.410004</td>\n",
              "      <td>127.809998</td>\n",
              "      <td>98208600.0</td>\n",
              "      <td>127.809998</td>\n",
              "    </tr>\n",
              "    <tr>\n",
              "      <th>2020-12-17</th>\n",
              "      <td>129.580002</td>\n",
              "      <td>128.039993</td>\n",
              "      <td>128.899994</td>\n",
              "      <td>128.699997</td>\n",
              "      <td>94359800.0</td>\n",
              "      <td>128.699997</td>\n",
              "    </tr>\n",
              "  </tbody>\n",
              "</table>\n",
              "<p>2256 rows × 6 columns</p>\n",
              "</div>"
            ],
            "text/plain": [
              "                  High         Low  ...       Volume   Adj Close\n",
              "Date                                ...                         \n",
              "2012-01-03   14.732142   14.607142  ...  302220800.0   12.669562\n",
              "2012-01-04   14.810000   14.617143  ...  260022000.0   12.737655\n",
              "2012-01-05   14.948215   14.738214  ...  271269600.0   12.879071\n",
              "2012-01-06   15.098214   14.972143  ...  318292800.0   13.013705\n",
              "2012-01-09   15.276786   15.048214  ...  394024400.0   12.993064\n",
              "...                ...         ...  ...          ...         ...\n",
              "2020-12-11  122.760002  120.550003  ...   86939800.0  122.410004\n",
              "2020-12-14  123.349998  121.540001  ...   79184500.0  121.779999\n",
              "2020-12-15  127.900002  124.129997  ...  157572300.0  127.879997\n",
              "2020-12-16  128.369995  126.559998  ...   98208600.0  127.809998\n",
              "2020-12-17  129.580002  128.039993  ...   94359800.0  128.699997\n",
              "\n",
              "[2256 rows x 6 columns]"
            ]
          },
          "metadata": {
            "tags": []
          },
          "execution_count": 4
        }
      ]
    },
    {
      "cell_type": "code",
      "metadata": {
        "colab": {
          "base_uri": "https://localhost:8080/"
        },
        "id": "GinINyqXm7Md",
        "outputId": "786abbf5-5599-4586-86fd-8c34f6e78665"
      },
      "source": [
        "df.shape"
      ],
      "execution_count": 5,
      "outputs": [
        {
          "output_type": "execute_result",
          "data": {
            "text/plain": [
              "(2256, 6)"
            ]
          },
          "metadata": {
            "tags": []
          },
          "execution_count": 5
        }
      ]
    },
    {
      "cell_type": "code",
      "metadata": {
        "colab": {
          "base_uri": "https://localhost:8080/",
          "height": 558
        },
        "id": "tFaX6wzbnTAF",
        "outputId": "63ac5548-421f-4485-c57c-43fe45473973"
      },
      "source": [
        "plt.figure(figsize=(16,8))\r\n",
        "plt.title('Close Price History')\r\n",
        "plt.plot(df['Close'])\r\n",
        "plt.xlabel('Date',fontsize=18)\r\n",
        "plt.ylabel('ClosingPrice',fontsize=18)\r\n",
        "plt.show()"
      ],
      "execution_count": 6,
      "outputs": [
        {
          "output_type": "display_data",
          "data": {
            "image/png": "[encoded data removed]",
            "text/plain": [
              "<Figure size 1152x576 with 1 Axes>"
            ]
          },
          "metadata": {
            "tags": []
          }
        }
      ]
    },
    {
      "cell_type": "code",
      "metadata": {
        "colab": {
          "base_uri": "https://localhost:8080/"
        },
        "id": "ADNBUnB-ocT1",
        "outputId": "cc624d60-574e-4142-985a-a3147db40a0b"
      },
      "source": [
        "data = df.filter(['Close'])\r\n",
        "dataset = data.values\r\n",
        "training_data_length = math.ceil(len(dataset)*0.8)\r\n",
        "training_data_length"
      ],
      "execution_count": 7,
      "outputs": [
        {
          "output_type": "execute_result",
          "data": {
            "text/plain": [
              "1805"
            ]
          },
          "metadata": {
            "tags": []
          },
          "execution_count": 7
        }
      ]
    },
    {
      "cell_type": "code",
      "metadata": {
        "colab": {
          "base_uri": "https://localhost:8080/"
        },
        "id": "OiHSF7YwBmk9",
        "outputId": "7105dc40-dd50-4a5b-ce64-00facf8a6e4c"
      },
      "source": [
        "scaler = MinMaxScaler(feature_range=(0,1))\r\n",
        "scaled_data = scaler.fit_transform(dataset)\r\n",
        "scaled_data"
      ],
      "execution_count": 8,
      "outputs": [
        {
          "output_type": "execute_result",
          "data": {
            "text/plain": [
              "array([[0.0061488 ],\n",
              "       [0.00680527],\n",
              "       [0.00816869],\n",
              "       ...,\n",
              "       [0.94760156],\n",
              "       [0.94701935],\n",
              "       [0.95442167]])"
            ]
          },
          "metadata": {
            "tags": []
          },
          "execution_count": 8
        }
      ]
    },
    {
      "cell_type": "code",
      "metadata": {
        "id": "xnY3xKLMCbpB"
      },
      "source": [
        "train_data = scaled_data[0:training_data_length,:]\r\n",
        "x_train =[]\r\n",
        "y_train =[]\r\n",
        "\r\n",
        "for i in range(60,len(train_data)):\r\n",
        "  x_train.append(train_data[i-60:i,0])\r\n",
        "  y_train.append(train_data[i,0])"
      ],
      "execution_count": 9,
      "outputs": []
    },
    {
      "cell_type": "code",
      "metadata": {
        "id": "lEYVIk26G1M-"
      },
      "source": [
        "x_train,y_train = np.array(x_train),np.array(y_train)"
      ],
      "execution_count": 10,
      "outputs": []
    },
    {
      "cell_type": "code",
      "metadata": {
        "colab": {
          "base_uri": "https://localhost:8080/"
        },
        "id": "En6PvnbHHFPe",
        "outputId": "5e68330c-867c-4c53-f4fe-625b1c4c614f"
      },
      "source": [
        "x_train = np.reshape(x_train,(x_train.shape[0],x_train.shape[1],1))\r\n",
        "x_train.shape\r\n"
      ],
      "execution_count": 11,
      "outputs": [
        {
          "output_type": "execute_result",
          "data": {
            "text/plain": [
              "(1745, 60, 1)"
            ]
          },
          "metadata": {
            "tags": []
          },
          "execution_count": 11
        }
      ]
    },
    {
      "cell_type": "code",
      "metadata": {
        "id": "VzKijRSITAch"
      },
      "source": [
        "model = Sequential()\r\n",
        "model.add(LSTM(50,return_sequences=True,input_shape=(x_train.shape[1],1)))\r\n",
        "model.add(LSTM(50,return_sequences=False))\r\n",
        "model.add(Dense(25))\r\n",
        "model.add(Dense(1))"
      ],
      "execution_count": 12,
      "outputs": []
    },
    {
      "cell_type": "code",
      "metadata": {
        "id": "zrcbxlY7T9fO"
      },
      "source": [
        "model.compile(optimizer='adam',loss='mean_squared_error')"
      ],
      "execution_count": 13,
      "outputs": []
    },
    {
      "cell_type": "code",
      "metadata": {
        "colab": {
          "base_uri": "https://localhost:8080/"
        },
        "id": "iLPH8_0EURdH",
        "outputId": "47b14ca7-7b25-4b8c-b3e8-f77dd7e187af"
      },
      "source": [
        "model.fit(x_train,y_train,batch_size=1,epochs=1)"
      ],
      "execution_count": 14,
      "outputs": [
        {
          "output_type": "stream",
          "text": [
            "1745/1745 [==============================] - 41s 22ms/step - loss: 5.5000e-04\n"
          ],
          "name": "stdout"
        },
        {
          "output_type": "execute_result",
          "data": {
            "text/plain": [
              "<tensorflow.python.keras.callbacks.History at 0x7f576ab91b70>"
            ]
          },
          "metadata": {
            "tags": []
          },
          "execution_count": 14
        }
      ]
    },
    {
      "cell_type": "code",
      "metadata": {
        "id": "wX94hWAlWRu6"
      },
      "source": [
        "test_data= scaled_data[training_data_length-60:,:]\r\n",
        "x_test =[]\r\n",
        "y_test = dataset[training_data_length:,:]\r\n",
        "for i in range(60,len(test_data)):\r\n",
        "  x_test.append(test_data[i-60:i,0])\r\n"
      ],
      "execution_count": 15,
      "outputs": []
    },
    {
      "cell_type": "code",
      "metadata": {
        "id": "mm26Y1FMX2Bp"
      },
      "source": [
        "x_test = np.array(x_test)"
      ],
      "execution_count": 16,
      "outputs": []
    },
    {
      "cell_type": "code",
      "metadata": {
        "id": "c5MOhNYqX63G"
      },
      "source": [
        "x_test = np.reshape(x_test,(x_test.shape[0],x_test.shape[1],1))"
      ],
      "execution_count": 17,
      "outputs": []
    },
    {
      "cell_type": "code",
      "metadata": {
        "id": "jWQ0pwj4YYk_"
      },
      "source": [
        "predicted = model.predict(x_test)\r\n",
        "predictions = scaler.inverse_transform(predicted)\r\n"
      ],
      "execution_count": 18,
      "outputs": []
    },
    {
      "cell_type": "code",
      "metadata": {
        "colab": {
          "base_uri": "https://localhost:8080/"
        },
        "id": "XTnyIPc0Y5Bc",
        "outputId": "97c66593-1289-4948-ad0c-fd449df11854"
      },
      "source": [
        "rmse = np.sqrt(np.mean(predictions - y_test)** 2)\r\n",
        "rmse "
      ],
      "execution_count": 19,
      "outputs": [
        {
          "output_type": "execute_result",
          "data": {
            "text/plain": [
              "1.5264652869653808"
            ]
          },
          "metadata": {
            "tags": []
          },
          "execution_count": 19
        }
      ]
    },
    {
      "cell_type": "code",
      "metadata": {
        "colab": {
          "base_uri": "https://localhost:8080/",
          "height": 660
        },
        "id": "R4rkSY3xcHoP",
        "outputId": "34109981-e05c-47ed-d52e-93aa392da411"
      },
      "source": [
        "train = data[:training_data_length]\r\n",
        "valid = data[training_data_length:]\r\n",
        "valid['predictions']= predictions\r\n",
        "plt.figure(figsize=(16,8))\r\n",
        "plt.title('Model')\r\n",
        "plt.xlabel('Date',fontsize = 18)\r\n",
        "plt.ylabel('Close',fontsize=18)\r\n",
        "plt.plot(train['Close'])\r\n",
        "plt.plot(valid[['Close','predictions']])\r\n",
        "plt.legend(['Train','Val','Predictions'],loc='lower right')\r\n",
        "plt.show()"
      ],
      "execution_count": 20,
      "outputs": [
        {
          "output_type": "stream",
          "text": [
            "/usr/local/lib/python3.6/dist-packages/ipykernel_launcher.py:3: SettingWithCopyWarning: \n",
            "A value is trying to be set on a copy of a slice from a DataFrame.\n",
            "Try using .loc[row_indexer,col_indexer] = value instead\n",
            "\n",
            "See the caveats in the documentation: https://pandas.pydata.org/pandas-docs/stable/user_guide/indexing.html#returning-a-view-versus-a-copy\n",
            "  This is separate from the ipykernel package so we can avoid doing imports until\n"
          ],
          "name": "stderr"
        },
        {
          "output_type": "display_data",
          "data": {
            "image/png": "[encoded data removed]",
            "text/plain": [
              "<Figure size 1152x576 with 1 Axes>"
            ]
          },
          "metadata": {
            "tags": []
          }
        }
      ]
    },
    {
      "cell_type": "code",
      "metadata": {
        "colab": {
          "base_uri": "https://localhost:8080/",
          "height": 450
        },
        "id": "wGASOX_8fV7I",
        "outputId": "640c39a2-02ad-4f79-d208-29d2fa5eff8d"
      },
      "source": [
        "valid"
      ],
      "execution_count": 21,
      "outputs": [
        {
          "output_type": "execute_result",
          "data": {
            "text/html": [
              "<div>\n",
              "<style scoped>\n",
              "    .dataframe tbody tr th:only-of-type {\n",
              "        vertical-align: middle;\n",
              "    }\n",
              "\n",
              "    .dataframe tbody tr th {\n",
              "        vertical-align: top;\n",
              "    }\n",
              "\n",
              "    .dataframe thead th {\n",
              "        text-align: right;\n",
              "    }\n",
              "</style>\n",
              "<table border=\"1\" class=\"dataframe\">\n",
              "  <thead>\n",
              "    <tr style=\"text-align: right;\">\n",
              "      <th></th>\n",
              "      <th>Close</th>\n",
              "      <th>predictions</th>\n",
              "    </tr>\n",
              "    <tr>\n",
              "      <th>Date</th>\n",
              "      <th></th>\n",
              "      <th></th>\n",
              "    </tr>\n",
              "  </thead>\n",
              "  <tbody>\n",
              "    <tr>\n",
              "      <th>2019-03-08</th>\n",
              "      <td>43.227501</td>\n",
              "      <td>42.910442</td>\n",
              "    </tr>\n",
              "    <tr>\n",
              "      <th>2019-03-11</th>\n",
              "      <td>44.724998</td>\n",
              "      <td>42.818939</td>\n",
              "    </tr>\n",
              "    <tr>\n",
              "      <th>2019-03-12</th>\n",
              "      <td>45.227501</td>\n",
              "      <td>42.918678</td>\n",
              "    </tr>\n",
              "    <tr>\n",
              "      <th>2019-03-13</th>\n",
              "      <td>45.427502</td>\n",
              "      <td>43.179676</td>\n",
              "    </tr>\n",
              "    <tr>\n",
              "      <th>2019-03-14</th>\n",
              "      <td>45.932499</td>\n",
              "      <td>43.524731</td>\n",
              "    </tr>\n",
              "    <tr>\n",
              "      <th>...</th>\n",
              "      <td>...</td>\n",
              "      <td>...</td>\n",
              "    </tr>\n",
              "    <tr>\n",
              "      <th>2020-12-11</th>\n",
              "      <td>122.410004</td>\n",
              "      <td>121.677345</td>\n",
              "    </tr>\n",
              "    <tr>\n",
              "      <th>2020-12-14</th>\n",
              "      <td>121.779999</td>\n",
              "      <td>121.458664</td>\n",
              "    </tr>\n",
              "    <tr>\n",
              "      <th>2020-12-15</th>\n",
              "      <td>127.879997</td>\n",
              "      <td>121.030472</td>\n",
              "    </tr>\n",
              "    <tr>\n",
              "      <th>2020-12-16</th>\n",
              "      <td>127.809998</td>\n",
              "      <td>121.557961</td>\n",
              "    </tr>\n",
              "    <tr>\n",
              "      <th>2020-12-17</th>\n",
              "      <td>128.699997</td>\n",
              "      <td>122.433586</td>\n",
              "    </tr>\n",
              "  </tbody>\n",
              "</table>\n",
              "<p>451 rows × 2 columns</p>\n",
              "</div>"
            ],
            "text/plain": [
              "                 Close  predictions\n",
              "Date                               \n",
              "2019-03-08   43.227501    42.910442\n",
              "2019-03-11   44.724998    42.818939\n",
              "2019-03-12   45.227501    42.918678\n",
              "2019-03-13   45.427502    43.179676\n",
              "2019-03-14   45.932499    43.524731\n",
              "...                ...          ...\n",
              "2020-12-11  122.410004   121.677345\n",
              "2020-12-14  121.779999   121.458664\n",
              "2020-12-15  127.879997   121.030472\n",
              "2020-12-16  127.809998   121.557961\n",
              "2020-12-17  128.699997   122.433586\n",
              "\n",
              "[451 rows x 2 columns]"
            ]
          },
          "metadata": {
            "tags": []
          },
          "execution_count": 21
        }
      ]
    },
    {
      "cell_type": "code",
      "metadata": {
        "id": "4ptVXYWCffnp",
        "colab": {
          "base_uri": "https://localhost:8080/"
        },
        "outputId": "7196274e-6d9a-4048-b638-d2333e4af125"
      },
      "source": [
        "apple_quote = web.DataReader('AAPL',data_source='yahoo',start='2012-01-01',end ='2021-01-04')\r\n",
        "new_df = apple_quote.filter(['Close'])\r\n",
        "last_60_days = new_df[-60:].values\r\n",
        "last_60_days_scaled = scaler.transform(last_60_days)\r\n",
        "X_test =[]\r\n",
        "X_test.append(last_60_days_scaled)\r\n",
        "X_test = np.array(X_test)\r\n",
        "X_test = np.reshape(X_test,(X_test.shape[0],X_test.shape[1],1))\r\n",
        "pred_price = model.predict(X_test)\r\n",
        "pred_price = scaler.inverse_transform(pred_price)\r\n",
        "pred_price"
      ],
      "execution_count": 22,
      "outputs": [
        {
          "output_type": "execute_result",
          "data": {
            "text/plain": [
              "array([[130.6438]], dtype=float32)"
            ]
          },
          "metadata": {
            "tags": []
          },
          "execution_count": 22
        }
      ]
    },
    {
      "cell_type": "code",
      "metadata": {
        "colab": {
          "base_uri": "https://localhost:8080/"
        },
        "id": "IaM4_R5t3zBT",
        "outputId": "c5fa040a-aa46-4b9e-bdc0-000c85726016"
      },
      "source": [
        "apple_quote2 = web.DataReader('AAPL',data_source='yahoo',start='2012-01-01',end ='2021-01-05')\r\n",
        "print(apple_quote2['Close'])"
      ],
      "execution_count": 23,
      "outputs": [
        {
          "output_type": "stream",
          "text": [
            "Date\n",
            "2012-01-03     14.686786\n",
            "2012-01-04     14.765715\n",
            "2012-01-05     14.929643\n",
            "2012-01-06     15.085714\n",
            "2012-01-09     15.061786\n",
            "                 ...    \n",
            "2020-12-29    134.869995\n",
            "2020-12-30    133.720001\n",
            "2020-12-31    132.690002\n",
            "2021-01-04    129.410004\n",
            "2021-01-05    131.009995\n",
            "Name: Close, Length: 2267, dtype: float64\n"
          ],
          "name": "stdout"
        }
      ]
    }
  ]
}