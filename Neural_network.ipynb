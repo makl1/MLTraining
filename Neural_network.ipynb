{
  "nbformat": 4,
  "nbformat_minor": 0,
  "metadata": {
    "colab": {
      "name": "Neural_network",
      "provenance": [],
      "authorship_tag": "ABX9TyO62v4p7fjY9ZwxHzWX6PJx",
      "include_colab_link": true
    },
    "kernelspec": {
      "name": "python3",
      "display_name": "Python 3"
    }
  },
  "cells": [
    {
      "cell_type": "markdown",
      "metadata": {
        "id": "view-in-github",
        "colab_type": "text"
      },
      "source": [
        "<a href=\"https://colab.research.google.com/github/makl1/MLTraining/blob/master/Neural_network.ipynb\" target=\"_parent\"><img src=\"https://colab.research.google.com/assets/colab-badge.svg\" alt=\"Open In Colab\"/></a>"
      ]
    },
    {
      "cell_type": "code",
      "metadata": {
        "id": "WjBdHHr_H-3d",
        "colab_type": "code",
        "colab": {}
      },
      "source": [
        "def w_sum(a,b):\n",
        "  assert(len(a)== len(b))\n",
        "  output = 0\n",
        "  for i in range(len(a)):\n",
        "    output += (a[i]*b[i])\n",
        "  return output"
      ],
      "execution_count": null,
      "outputs": []
    },
    {
      "cell_type": "code",
      "metadata": {
        "id": "X4J0sS_9FFCo",
        "colab_type": "code",
        "colab": {}
      },
      "source": [
        "weight =[0.1,0.2,0]\n",
        "def neural_network(input,weight):\n",
        "  prediction = w_sum(input,weight)\n",
        "  return prediction"
      ],
      "execution_count": null,
      "outputs": []
    },
    {
      "cell_type": "code",
      "metadata": {
        "id": "HBcQJSSJFYGh",
        "colab_type": "code",
        "colab": {
          "base_uri": "https://localhost:8080/",
          "height": 34
        },
        "outputId": "c968b848-686c-4ec2-ce66-db666b8151e4"
      },
      "source": [
        "toes =[8.5,9.5,10,9]\n",
        "wlrec = [0.65,0.8,0.8,0.9]\n",
        "nfans =[1.2,1.3,0.5,1.0]\n",
        "input = [toes[0],wlrec[0],nfans[0]]\n",
        "pred = neural_network(input,weight)\n",
        "print(pred)"
      ],
      "execution_count": null,
      "outputs": [
        {
          "output_type": "stream",
          "text": [
            "0.9800000000000001\n"
          ],
          "name": "stdout"
        }
      ]
    },
    {
      "cell_type": "code",
      "metadata": {
        "id": "w3P1sciAJ_DA",
        "colab_type": "code",
        "colab": {}
      },
      "source": [
        "def element_multiplication(vec_a,vec_b):\n",
        "  assert(len(vec_a)== len(vec_b))\n",
        "  output =[]\n",
        "  for i in range(len(vec_a) ) :\n",
        "    output.append(vec_a[i] * vec_b[i])\n",
        "  return output"
      ],
      "execution_count": null,
      "outputs": []
    },
    {
      "cell_type": "code",
      "metadata": {
        "id": "W39lKnfEKhwP",
        "colab_type": "code",
        "colab": {
          "base_uri": "https://localhost:8080/",
          "height": 34
        },
        "outputId": "7cdbefbb-7372-4431-de30-69a54bbf8af7"
      },
      "source": [
        "print (element_multiplication([1,2,3,4],[1,5,3,4]))"
      ],
      "execution_count": null,
      "outputs": [
        {
          "output_type": "stream",
          "text": [
            "[1, 10, 9, 16]\n"
          ],
          "name": "stdout"
        }
      ]
    },
    {
      "cell_type": "code",
      "metadata": {
        "id": "4NsBLecZLUpM",
        "colab_type": "code",
        "colab": {}
      },
      "source": [
        "def element_addition(vec_a,vec_b):\n",
        "  assert(len(vec_a)== len(vec_b))\n",
        "  output =[]\n",
        "  for i in range(len(vec_a) ) :\n",
        "    output.append(vec_a[i] + vec_b[i])\n",
        "  return output"
      ],
      "execution_count": null,
      "outputs": []
    },
    {
      "cell_type": "code",
      "metadata": {
        "id": "Z4Ui1WF7LgDy",
        "colab_type": "code",
        "colab": {
          "base_uri": "https://localhost:8080/",
          "height": 34
        },
        "outputId": "7e9a029f-d80b-462a-fa28-8f629f2c1926"
      },
      "source": [
        "print (element_addition([1,2,3,4],[1,5,3,4]))"
      ],
      "execution_count": null,
      "outputs": [
        {
          "output_type": "stream",
          "text": [
            "[2, 7, 6, 8]\n"
          ],
          "name": "stdout"
        }
      ]
    },
    {
      "cell_type": "code",
      "metadata": {
        "id": "cPKNt_rDLv_E",
        "colab_type": "code",
        "colab": {}
      },
      "source": [
        "def vector_sum(vec_a):\n",
        "  output=0\n",
        "  for i in range(len(vec_a) ) :\n",
        "    output += vec_a[i]\n",
        "  return output"
      ],
      "execution_count": null,
      "outputs": []
    },
    {
      "cell_type": "code",
      "metadata": {
        "id": "16yWoWZYMBaf",
        "colab_type": "code",
        "colab": {
          "base_uri": "https://localhost:8080/",
          "height": 34
        },
        "outputId": "086c6a5d-8661-413c-caf6-879b843d6dea"
      },
      "source": [
        "print (vector_sum([1,2,3,4]))"
      ],
      "execution_count": null,
      "outputs": [
        {
          "output_type": "stream",
          "text": [
            "10\n"
          ],
          "name": "stdout"
        }
      ]
    },
    {
      "cell_type": "code",
      "metadata": {
        "id": "z_Em5oRpMTHV",
        "colab_type": "code",
        "colab": {}
      },
      "source": [
        "def vector_average(vec_a):\n",
        "  output = 0\n",
        "  for i in range(len(vec_a) ) :\n",
        "    output += vec_a[i]\n",
        "  output = output / len(vec_a)\n",
        "  return output"
      ],
      "execution_count": null,
      "outputs": []
    },
    {
      "cell_type": "code",
      "metadata": {
        "id": "mHcoUEW-MlUT",
        "colab_type": "code",
        "colab": {
          "base_uri": "https://localhost:8080/",
          "height": 34
        },
        "outputId": "ea6bbed0-c96f-402f-e6ac-5f13b0cebbce"
      },
      "source": [
        "print (vector_average([1,2,3,4]))"
      ],
      "execution_count": null,
      "outputs": [
        {
          "output_type": "stream",
          "text": [
            "2.5\n"
          ],
          "name": "stdout"
        }
      ]
    },
    {
      "cell_type": "code",
      "metadata": {
        "id": "_HBh5td4SY5K",
        "colab_type": "code",
        "colab": {
          "base_uri": "https://localhost:8080/",
          "height": 34
        },
        "outputId": "e54cca40-a6f7-464b-f95c-abe2a6635493"
      },
      "source": [
        "weight =[0.1,0.2,0]\n",
        "toes =[8.5,9.5,10,9]\n",
        "wlrec = [0.65,0.8,0.8,0.9]\n",
        "nfans =[1.2,1.3,0.5,1.0]\n",
        "input = [toes[0],wlrec[0],nfans[0]]\n",
        "output = element_multiplication(input,weight)\n",
        "pred = vector_sum(output)\n",
        "print(pred)\n"
      ],
      "execution_count": 34,
      "outputs": [
        {
          "output_type": "stream",
          "text": [
            "0.9800000000000001\n"
          ],
          "name": "stdout"
        }
      ]
    },
    {
      "cell_type": "code",
      "metadata": {
        "id": "LAWmU6hR5vX9",
        "colab_type": "code",
        "colab": {
          "base_uri": "https://localhost:8080/",
          "height": 34
        },
        "outputId": "9e43483e-947d-49f9-ed5a-9fec296528d2"
      },
      "source": [
        "import numpy as np\n",
        "weights = np.array([0.1,0.2,0])\n",
        "def wsum_numpy(input,weights):\n",
        "    pred = input.dot(weights)\n",
        "    return pred\n",
        "\n",
        "toes = np.array([8.5,9.5,10,9])\n",
        "wlrec = np.array([0.65,0.8,0.8,0.9])\n",
        "nfans = np.array([1.2,1.3,0.5,1.0])\n",
        "input = np.array([toes[0],wlrec[0],nfans[0]])\n",
        "pred = wsum_numpy(input,weights)\n",
        "print(pred)"
      ],
      "execution_count": 8,
      "outputs": [
        {
          "output_type": "stream",
          "text": [
            "0.9800000000000001\n"
          ],
          "name": "stdout"
        }
      ]
    }
  ]
}